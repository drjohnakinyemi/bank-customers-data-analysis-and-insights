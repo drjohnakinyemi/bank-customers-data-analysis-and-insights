{
 "cells": [
  {
   "cell_type": "markdown",
   "id": "1cae2b01",
   "metadata": {},
   "source": [
    "## <span style=\"color: blue;\">Berka Bank Dataset Preparation - Part 1 [using Pandas and Python]</span>\n",
    "by Dr. John Akinyemi\n",
    "\n",
    "### About the Dataset and the Project\n",
    "\n",
    "The dataset is called the Berka dataset. It contains operational information from a Czech bank. The purpose is for data exploration and knowledge discovery in the financial industry, specifically in a bank. , in the areas of clients, accounts, loans, credit cards, districts (bank branches), and other financial transactions. \n",
    "\n",
    "The dataset was originally provided for the 1999 PKDD Discovery Challenge.\n",
    "Source: https://webpages.charlotte.edu/mirsad/itcs6265/group1/index.html\n",
    "\n",
    "### Statistics:\n",
    "* The dataset contains more than 5,000 clients, and approximately 1 million transactions. \n",
    "* The dataset shows that the bank advanced almost 700 loans to clients, and issued nearly 900 credit cards.\n",
    "\n",
    "### Bank managers need help to improve their services. \n",
    "* They want to have better understanding of their customers and seek specific actions to improve their services. \n",
    "\n",
    "### Problems and Opportunities Facing Bank Managers\n",
    "* They only have vague ideas about their clients.\n",
    "* They want to know the best clients to be offered additional services.\n",
    "* They also want to know bad clients, so they can minimize potential loses for the bank.\n",
    "\n",
    "### Desired Outcomes for Bank Managers\n",
    "* Managers want a general understanding of their clients, if possible, per district.\n",
    "* They want to gain useful and actionable insights from the data.\n",
    "* They want to know the characteristics of customers who are good candidate for loans, credit cards, and other services.\n",
    "* They also want to know clients who are bad candidate for loans, credit cards, and other services."
   ]
  },
  {
   "cell_type": "markdown",
   "id": "a8a19440",
   "metadata": {},
   "source": [
    "### <span style=\"color: blue;\">John's Notes</span>\n",
    "\n",
    "The goal of this project is to tell a story with the data in this dataset and to show mastery of data analysis skills from data acquisition to visualization. \n",
    "\n",
    "The project is divided into four (4) parts, to show mastery of:\n",
    "\n",
    "* **Part 1: Data preprocessing using python and the pandas library.**\n",
    "* **Part 2: Using SQL to load and preprocess data within MS SQL Server** \n",
    "* **Part 3: Exploratory Data Analysis (EDA) with SQL within MS SQL Server** \n",
    "    * Bonus: showing mastery of working with python, pandas, SQL, and MS SQL Server RDBMS, together within Jupyter Notebook environment.\n",
    "* **Part 4: Data story telling and visualization using Power BI.** \n",
    "\n",
    "\n",
    "<span style=\"color: blue;\">The next step is to load the raw data from the Berka dataset into pandas and preprocess to get the data ready for SQL Server.</span>\n"
   ]
  },
  {
   "cell_type": "code",
   "execution_count": 1,
   "id": "8e0951c7",
   "metadata": {},
   "outputs": [],
   "source": [
    "import pandas as pd"
   ]
  },
  {
   "cell_type": "markdown",
   "id": "c6ade6a6",
   "metadata": {},
   "source": [
    "## <span style=\"color: blue;\">Load csv files and Rename Columns/Fields</span>\n",
    "* The separator (delimiter) in the csv files is a semi colon (`;`), not comma (`,`).\n",
    "* Add `sep=';'` to `read_csv()`\n",
    "* Also, add `low_memory=False` to the `read_csv()` method for `trans.csv` because the file is a relatively large file (~67MB)."
   ]
  },
  {
   "cell_type": "code",
   "execution_count": 2,
   "id": "cc36407d",
   "metadata": {},
   "outputs": [],
   "source": [
    "account = pd.read_csv('../berka-bank-raw-dataset/account.csv', sep=';')\n",
    "card = pd.read_csv('../berka-bank-raw-dataset/card.csv', sep=';')\n",
    "client = pd.read_csv('../berka-bank-raw-dataset/client.csv', sep=';')\n",
    "disposition = pd.read_csv('../berka-bank-raw-dataset/disposition.csv', sep=';')\n",
    "district = pd.read_csv('../berka-bank-raw-dataset/district.csv', sep=';')\n",
    "loan = pd.read_csv('../berka-bank-raw-dataset/loan.csv', sep=';')\n",
    "order = pd.read_csv('../berka-bank-raw-dataset/order.csv', sep=';')\n",
    "transaction = pd.read_csv('../berka-bank-raw-dataset/transaction.csv', sep=';', low_memory=False)"
   ]
  },
  {
   "cell_type": "markdown",
   "id": "05f41dae",
   "metadata": {},
   "source": [
    "### Data Preprocessing for Account (account.csv)"
   ]
  },
  {
   "cell_type": "code",
   "execution_count": 3,
   "id": "83842644",
   "metadata": {},
   "outputs": [
    {
     "data": {
      "text/html": [
       "<div>\n",
       "<style scoped>\n",
       "    .dataframe tbody tr th:only-of-type {\n",
       "        vertical-align: middle;\n",
       "    }\n",
       "\n",
       "    .dataframe tbody tr th {\n",
       "        vertical-align: top;\n",
       "    }\n",
       "\n",
       "    .dataframe thead th {\n",
       "        text-align: right;\n",
       "    }\n",
       "</style>\n",
       "<table border=\"1\" class=\"dataframe\">\n",
       "  <thead>\n",
       "    <tr style=\"text-align: right;\">\n",
       "      <th></th>\n",
       "      <th>account_id</th>\n",
       "      <th>district_id</th>\n",
       "      <th>frequency</th>\n",
       "      <th>date</th>\n",
       "    </tr>\n",
       "  </thead>\n",
       "  <tbody>\n",
       "    <tr>\n",
       "      <th>0</th>\n",
       "      <td>576</td>\n",
       "      <td>55</td>\n",
       "      <td>POPLATEK MESICNE</td>\n",
       "      <td>930101</td>\n",
       "    </tr>\n",
       "    <tr>\n",
       "      <th>1</th>\n",
       "      <td>3818</td>\n",
       "      <td>74</td>\n",
       "      <td>POPLATEK MESICNE</td>\n",
       "      <td>930101</td>\n",
       "    </tr>\n",
       "    <tr>\n",
       "      <th>2</th>\n",
       "      <td>704</td>\n",
       "      <td>55</td>\n",
       "      <td>POPLATEK MESICNE</td>\n",
       "      <td>930101</td>\n",
       "    </tr>\n",
       "    <tr>\n",
       "      <th>3</th>\n",
       "      <td>2378</td>\n",
       "      <td>16</td>\n",
       "      <td>POPLATEK MESICNE</td>\n",
       "      <td>930101</td>\n",
       "    </tr>\n",
       "    <tr>\n",
       "      <th>4</th>\n",
       "      <td>2632</td>\n",
       "      <td>24</td>\n",
       "      <td>POPLATEK MESICNE</td>\n",
       "      <td>930102</td>\n",
       "    </tr>\n",
       "  </tbody>\n",
       "</table>\n",
       "</div>"
      ],
      "text/plain": [
       "   account_id  district_id         frequency    date\n",
       "0         576           55  POPLATEK MESICNE  930101\n",
       "1        3818           74  POPLATEK MESICNE  930101\n",
       "2         704           55  POPLATEK MESICNE  930101\n",
       "3        2378           16  POPLATEK MESICNE  930101\n",
       "4        2632           24  POPLATEK MESICNE  930102"
      ]
     },
     "execution_count": 3,
     "metadata": {},
     "output_type": "execute_result"
    }
   ],
   "source": [
    "account.head()"
   ]
  },
  {
   "cell_type": "code",
   "execution_count": 4,
   "id": "8676f9d7",
   "metadata": {},
   "outputs": [
    {
     "data": {
      "text/plain": [
       "Index(['account_id', 'district_id', 'frequency', 'date'], dtype='object')"
      ]
     },
     "execution_count": 4,
     "metadata": {},
     "output_type": "execute_result"
    }
   ],
   "source": [
    "account.columns"
   ]
  },
  {
   "cell_type": "code",
   "execution_count": 5,
   "id": "90b7afe3",
   "metadata": {},
   "outputs": [],
   "source": [
    "account.rename(columns={\n",
    "    'account_id':'AccountID', \n",
    "    'district_id':'DistrictID', \n",
    "    'frequency':'Frequency', \n",
    "    'date':'EntryDate'\n",
    "}, inplace=True)"
   ]
  },
  {
   "cell_type": "code",
   "execution_count": 6,
   "id": "a26669ea",
   "metadata": {},
   "outputs": [
    {
     "data": {
      "text/html": [
       "<div>\n",
       "<style scoped>\n",
       "    .dataframe tbody tr th:only-of-type {\n",
       "        vertical-align: middle;\n",
       "    }\n",
       "\n",
       "    .dataframe tbody tr th {\n",
       "        vertical-align: top;\n",
       "    }\n",
       "\n",
       "    .dataframe thead th {\n",
       "        text-align: right;\n",
       "    }\n",
       "</style>\n",
       "<table border=\"1\" class=\"dataframe\">\n",
       "  <thead>\n",
       "    <tr style=\"text-align: right;\">\n",
       "      <th></th>\n",
       "      <th>AccountID</th>\n",
       "      <th>DistrictID</th>\n",
       "      <th>Frequency</th>\n",
       "      <th>EntryDate</th>\n",
       "    </tr>\n",
       "  </thead>\n",
       "  <tbody>\n",
       "    <tr>\n",
       "      <th>0</th>\n",
       "      <td>576</td>\n",
       "      <td>55</td>\n",
       "      <td>POPLATEK MESICNE</td>\n",
       "      <td>930101</td>\n",
       "    </tr>\n",
       "    <tr>\n",
       "      <th>1</th>\n",
       "      <td>3818</td>\n",
       "      <td>74</td>\n",
       "      <td>POPLATEK MESICNE</td>\n",
       "      <td>930101</td>\n",
       "    </tr>\n",
       "    <tr>\n",
       "      <th>2</th>\n",
       "      <td>704</td>\n",
       "      <td>55</td>\n",
       "      <td>POPLATEK MESICNE</td>\n",
       "      <td>930101</td>\n",
       "    </tr>\n",
       "    <tr>\n",
       "      <th>3</th>\n",
       "      <td>2378</td>\n",
       "      <td>16</td>\n",
       "      <td>POPLATEK MESICNE</td>\n",
       "      <td>930101</td>\n",
       "    </tr>\n",
       "    <tr>\n",
       "      <th>4</th>\n",
       "      <td>2632</td>\n",
       "      <td>24</td>\n",
       "      <td>POPLATEK MESICNE</td>\n",
       "      <td>930102</td>\n",
       "    </tr>\n",
       "  </tbody>\n",
       "</table>\n",
       "</div>"
      ],
      "text/plain": [
       "   AccountID  DistrictID         Frequency  EntryDate\n",
       "0        576          55  POPLATEK MESICNE     930101\n",
       "1       3818          74  POPLATEK MESICNE     930101\n",
       "2        704          55  POPLATEK MESICNE     930101\n",
       "3       2378          16  POPLATEK MESICNE     930101\n",
       "4       2632          24  POPLATEK MESICNE     930102"
      ]
     },
     "execution_count": 6,
     "metadata": {},
     "output_type": "execute_result"
    }
   ],
   "source": [
    "account.head()"
   ]
  },
  {
   "cell_type": "markdown",
   "id": "5e3f9b7e",
   "metadata": {},
   "source": [
    "### <span style=\"color: blue;\">Save preprocessed accounts dataframe data into another `account.csv` file</span>\n",
    "* The data has been preprocessed and it is ready to be ingested into MS SQL Server.\n",
    "* Export the preprocessed data in the pandas dataframe into `account.csv` file in another folder."
   ]
  },
  {
   "cell_type": "code",
   "execution_count": 7,
   "id": "e8f90361",
   "metadata": {},
   "outputs": [],
   "source": [
    "account.to_csv('../dataset-ready-to-upload-to-rdbms/account.csv', index=False)"
   ]
  },
  {
   "cell_type": "markdown",
   "id": "88b14edf",
   "metadata": {},
   "source": [
    "### Data Preprocessing for Credit Card (card.csv)"
   ]
  },
  {
   "cell_type": "code",
   "execution_count": 8,
   "id": "b08a62aa",
   "metadata": {},
   "outputs": [
    {
     "data": {
      "text/html": [
       "<div>\n",
       "<style scoped>\n",
       "    .dataframe tbody tr th:only-of-type {\n",
       "        vertical-align: middle;\n",
       "    }\n",
       "\n",
       "    .dataframe tbody tr th {\n",
       "        vertical-align: top;\n",
       "    }\n",
       "\n",
       "    .dataframe thead th {\n",
       "        text-align: right;\n",
       "    }\n",
       "</style>\n",
       "<table border=\"1\" class=\"dataframe\">\n",
       "  <thead>\n",
       "    <tr style=\"text-align: right;\">\n",
       "      <th></th>\n",
       "      <th>card_id</th>\n",
       "      <th>disp_id</th>\n",
       "      <th>type</th>\n",
       "      <th>issued</th>\n",
       "    </tr>\n",
       "  </thead>\n",
       "  <tbody>\n",
       "    <tr>\n",
       "      <th>0</th>\n",
       "      <td>1005</td>\n",
       "      <td>9285</td>\n",
       "      <td>classic</td>\n",
       "      <td>931107 00:00:00</td>\n",
       "    </tr>\n",
       "    <tr>\n",
       "      <th>1</th>\n",
       "      <td>104</td>\n",
       "      <td>588</td>\n",
       "      <td>classic</td>\n",
       "      <td>940119 00:00:00</td>\n",
       "    </tr>\n",
       "    <tr>\n",
       "      <th>2</th>\n",
       "      <td>747</td>\n",
       "      <td>4915</td>\n",
       "      <td>classic</td>\n",
       "      <td>940205 00:00:00</td>\n",
       "    </tr>\n",
       "    <tr>\n",
       "      <th>3</th>\n",
       "      <td>70</td>\n",
       "      <td>439</td>\n",
       "      <td>classic</td>\n",
       "      <td>940208 00:00:00</td>\n",
       "    </tr>\n",
       "    <tr>\n",
       "      <th>4</th>\n",
       "      <td>577</td>\n",
       "      <td>3687</td>\n",
       "      <td>classic</td>\n",
       "      <td>940215 00:00:00</td>\n",
       "    </tr>\n",
       "  </tbody>\n",
       "</table>\n",
       "</div>"
      ],
      "text/plain": [
       "   card_id  disp_id     type           issued\n",
       "0     1005     9285  classic  931107 00:00:00\n",
       "1      104      588  classic  940119 00:00:00\n",
       "2      747     4915  classic  940205 00:00:00\n",
       "3       70      439  classic  940208 00:00:00\n",
       "4      577     3687  classic  940215 00:00:00"
      ]
     },
     "execution_count": 8,
     "metadata": {},
     "output_type": "execute_result"
    }
   ],
   "source": [
    "card.head()"
   ]
  },
  {
   "cell_type": "code",
   "execution_count": 9,
   "id": "0f79eaf0",
   "metadata": {},
   "outputs": [
    {
     "data": {
      "text/plain": [
       "Index(['card_id', 'disp_id', 'type', 'issued'], dtype='object')"
      ]
     },
     "execution_count": 9,
     "metadata": {},
     "output_type": "execute_result"
    }
   ],
   "source": [
    "card.columns"
   ]
  },
  {
   "cell_type": "code",
   "execution_count": 10,
   "id": "521ce5db",
   "metadata": {},
   "outputs": [],
   "source": [
    "card.rename(columns={\n",
    "    'card_id':'CardID',\n",
    "    'disp_id':'DispositionID', \n",
    "    'type':'Type', \n",
    "    'issued':'IssuedDate', \n",
    "}, inplace=True)"
   ]
  },
  {
   "cell_type": "code",
   "execution_count": 11,
   "id": "3c351444",
   "metadata": {},
   "outputs": [
    {
     "data": {
      "text/html": [
       "<div>\n",
       "<style scoped>\n",
       "    .dataframe tbody tr th:only-of-type {\n",
       "        vertical-align: middle;\n",
       "    }\n",
       "\n",
       "    .dataframe tbody tr th {\n",
       "        vertical-align: top;\n",
       "    }\n",
       "\n",
       "    .dataframe thead th {\n",
       "        text-align: right;\n",
       "    }\n",
       "</style>\n",
       "<table border=\"1\" class=\"dataframe\">\n",
       "  <thead>\n",
       "    <tr style=\"text-align: right;\">\n",
       "      <th></th>\n",
       "      <th>CardID</th>\n",
       "      <th>DispositionID</th>\n",
       "      <th>Type</th>\n",
       "      <th>IssuedDate</th>\n",
       "    </tr>\n",
       "  </thead>\n",
       "  <tbody>\n",
       "    <tr>\n",
       "      <th>0</th>\n",
       "      <td>1005</td>\n",
       "      <td>9285</td>\n",
       "      <td>classic</td>\n",
       "      <td>931107 00:00:00</td>\n",
       "    </tr>\n",
       "    <tr>\n",
       "      <th>1</th>\n",
       "      <td>104</td>\n",
       "      <td>588</td>\n",
       "      <td>classic</td>\n",
       "      <td>940119 00:00:00</td>\n",
       "    </tr>\n",
       "    <tr>\n",
       "      <th>2</th>\n",
       "      <td>747</td>\n",
       "      <td>4915</td>\n",
       "      <td>classic</td>\n",
       "      <td>940205 00:00:00</td>\n",
       "    </tr>\n",
       "    <tr>\n",
       "      <th>3</th>\n",
       "      <td>70</td>\n",
       "      <td>439</td>\n",
       "      <td>classic</td>\n",
       "      <td>940208 00:00:00</td>\n",
       "    </tr>\n",
       "    <tr>\n",
       "      <th>4</th>\n",
       "      <td>577</td>\n",
       "      <td>3687</td>\n",
       "      <td>classic</td>\n",
       "      <td>940215 00:00:00</td>\n",
       "    </tr>\n",
       "  </tbody>\n",
       "</table>\n",
       "</div>"
      ],
      "text/plain": [
       "   CardID  DispositionID     Type       IssuedDate\n",
       "0    1005           9285  classic  931107 00:00:00\n",
       "1     104            588  classic  940119 00:00:00\n",
       "2     747           4915  classic  940205 00:00:00\n",
       "3      70            439  classic  940208 00:00:00\n",
       "4     577           3687  classic  940215 00:00:00"
      ]
     },
     "execution_count": 11,
     "metadata": {},
     "output_type": "execute_result"
    }
   ],
   "source": [
    "card.head()"
   ]
  },
  {
   "cell_type": "markdown",
   "id": "e536fa0e",
   "metadata": {},
   "source": [
    "### <span style=\"color: blue;\">Save preprocessed credit card dataframe data into another `card.csv` file</span>\n",
    "* The data has been preprocessed and it is ready to be ingested into MS SQL Server.\n",
    "* Export the preprocessed data in the pandas dataframe into `card.csv` file in another folder."
   ]
  },
  {
   "cell_type": "code",
   "execution_count": 12,
   "id": "b2699602",
   "metadata": {},
   "outputs": [],
   "source": [
    "card.to_csv('../dataset-ready-to-upload-to-rdbms/credit_card.csv', index=False)"
   ]
  },
  {
   "cell_type": "markdown",
   "id": "2d6acf63",
   "metadata": {},
   "source": [
    "### Data Preprocessing for Client (client.csv)"
   ]
  },
  {
   "cell_type": "code",
   "execution_count": 13,
   "id": "e67635fc",
   "metadata": {},
   "outputs": [
    {
     "data": {
      "text/html": [
       "<div>\n",
       "<style scoped>\n",
       "    .dataframe tbody tr th:only-of-type {\n",
       "        vertical-align: middle;\n",
       "    }\n",
       "\n",
       "    .dataframe tbody tr th {\n",
       "        vertical-align: top;\n",
       "    }\n",
       "\n",
       "    .dataframe thead th {\n",
       "        text-align: right;\n",
       "    }\n",
       "</style>\n",
       "<table border=\"1\" class=\"dataframe\">\n",
       "  <thead>\n",
       "    <tr style=\"text-align: right;\">\n",
       "      <th></th>\n",
       "      <th>client_id</th>\n",
       "      <th>birth_number</th>\n",
       "      <th>district_id</th>\n",
       "    </tr>\n",
       "  </thead>\n",
       "  <tbody>\n",
       "    <tr>\n",
       "      <th>0</th>\n",
       "      <td>1</td>\n",
       "      <td>706213</td>\n",
       "      <td>18</td>\n",
       "    </tr>\n",
       "    <tr>\n",
       "      <th>1</th>\n",
       "      <td>2</td>\n",
       "      <td>450204</td>\n",
       "      <td>1</td>\n",
       "    </tr>\n",
       "    <tr>\n",
       "      <th>2</th>\n",
       "      <td>3</td>\n",
       "      <td>406009</td>\n",
       "      <td>1</td>\n",
       "    </tr>\n",
       "    <tr>\n",
       "      <th>3</th>\n",
       "      <td>4</td>\n",
       "      <td>561201</td>\n",
       "      <td>5</td>\n",
       "    </tr>\n",
       "    <tr>\n",
       "      <th>4</th>\n",
       "      <td>5</td>\n",
       "      <td>605703</td>\n",
       "      <td>5</td>\n",
       "    </tr>\n",
       "  </tbody>\n",
       "</table>\n",
       "</div>"
      ],
      "text/plain": [
       "   client_id  birth_number  district_id\n",
       "0          1        706213           18\n",
       "1          2        450204            1\n",
       "2          3        406009            1\n",
       "3          4        561201            5\n",
       "4          5        605703            5"
      ]
     },
     "execution_count": 13,
     "metadata": {},
     "output_type": "execute_result"
    }
   ],
   "source": [
    "client.head()"
   ]
  },
  {
   "cell_type": "code",
   "execution_count": 14,
   "id": "16bd496b",
   "metadata": {},
   "outputs": [
    {
     "data": {
      "text/plain": [
       "Index(['client_id', 'birth_number', 'district_id'], dtype='object')"
      ]
     },
     "execution_count": 14,
     "metadata": {},
     "output_type": "execute_result"
    }
   ],
   "source": [
    "client.columns"
   ]
  },
  {
   "cell_type": "code",
   "execution_count": 15,
   "id": "481b7193",
   "metadata": {},
   "outputs": [],
   "source": [
    "client.rename(columns={\n",
    "    'client_id':'ClientID',\n",
    "    'birth_number':'BirthNumber', \n",
    "    'district_id':'DistricttID', \n",
    "}, inplace=True)"
   ]
  },
  {
   "cell_type": "code",
   "execution_count": 16,
   "id": "c6c6b6d7",
   "metadata": {},
   "outputs": [
    {
     "data": {
      "text/html": [
       "<div>\n",
       "<style scoped>\n",
       "    .dataframe tbody tr th:only-of-type {\n",
       "        vertical-align: middle;\n",
       "    }\n",
       "\n",
       "    .dataframe tbody tr th {\n",
       "        vertical-align: top;\n",
       "    }\n",
       "\n",
       "    .dataframe thead th {\n",
       "        text-align: right;\n",
       "    }\n",
       "</style>\n",
       "<table border=\"1\" class=\"dataframe\">\n",
       "  <thead>\n",
       "    <tr style=\"text-align: right;\">\n",
       "      <th></th>\n",
       "      <th>ClientID</th>\n",
       "      <th>BirthNumber</th>\n",
       "      <th>DistricttID</th>\n",
       "    </tr>\n",
       "  </thead>\n",
       "  <tbody>\n",
       "    <tr>\n",
       "      <th>0</th>\n",
       "      <td>1</td>\n",
       "      <td>706213</td>\n",
       "      <td>18</td>\n",
       "    </tr>\n",
       "    <tr>\n",
       "      <th>1</th>\n",
       "      <td>2</td>\n",
       "      <td>450204</td>\n",
       "      <td>1</td>\n",
       "    </tr>\n",
       "    <tr>\n",
       "      <th>2</th>\n",
       "      <td>3</td>\n",
       "      <td>406009</td>\n",
       "      <td>1</td>\n",
       "    </tr>\n",
       "    <tr>\n",
       "      <th>3</th>\n",
       "      <td>4</td>\n",
       "      <td>561201</td>\n",
       "      <td>5</td>\n",
       "    </tr>\n",
       "    <tr>\n",
       "      <th>4</th>\n",
       "      <td>5</td>\n",
       "      <td>605703</td>\n",
       "      <td>5</td>\n",
       "    </tr>\n",
       "  </tbody>\n",
       "</table>\n",
       "</div>"
      ],
      "text/plain": [
       "   ClientID  BirthNumber  DistricttID\n",
       "0         1       706213           18\n",
       "1         2       450204            1\n",
       "2         3       406009            1\n",
       "3         4       561201            5\n",
       "4         5       605703            5"
      ]
     },
     "execution_count": 16,
     "metadata": {},
     "output_type": "execute_result"
    }
   ],
   "source": [
    "client.head()"
   ]
  },
  {
   "cell_type": "markdown",
   "id": "ba5dc2b2",
   "metadata": {},
   "source": [
    "### <span style=\"color: blue;\">Save preprocessed client dataframe data into another `client.csv` file</span>\n",
    "* The data has been preprocessed and it is ready to be ingested into MS SQL Server.\n",
    "* Export the preprocessed data in the pandas dataframe into `client.csv` file in another folder."
   ]
  },
  {
   "cell_type": "code",
   "execution_count": 17,
   "id": "5558b538",
   "metadata": {},
   "outputs": [],
   "source": [
    "client.to_csv('../dataset-ready-to-upload-to-rdbms/client.csv', index=False)"
   ]
  },
  {
   "cell_type": "markdown",
   "id": "e7056628",
   "metadata": {},
   "source": [
    "### Data Preprocessing for Disposition (disp.csv)"
   ]
  },
  {
   "cell_type": "code",
   "execution_count": 18,
   "id": "aa438ade",
   "metadata": {},
   "outputs": [
    {
     "data": {
      "text/html": [
       "<div>\n",
       "<style scoped>\n",
       "    .dataframe tbody tr th:only-of-type {\n",
       "        vertical-align: middle;\n",
       "    }\n",
       "\n",
       "    .dataframe tbody tr th {\n",
       "        vertical-align: top;\n",
       "    }\n",
       "\n",
       "    .dataframe thead th {\n",
       "        text-align: right;\n",
       "    }\n",
       "</style>\n",
       "<table border=\"1\" class=\"dataframe\">\n",
       "  <thead>\n",
       "    <tr style=\"text-align: right;\">\n",
       "      <th></th>\n",
       "      <th>disp_id</th>\n",
       "      <th>client_id</th>\n",
       "      <th>account_id</th>\n",
       "      <th>type</th>\n",
       "    </tr>\n",
       "  </thead>\n",
       "  <tbody>\n",
       "    <tr>\n",
       "      <th>0</th>\n",
       "      <td>1</td>\n",
       "      <td>1</td>\n",
       "      <td>1</td>\n",
       "      <td>OWNER</td>\n",
       "    </tr>\n",
       "    <tr>\n",
       "      <th>1</th>\n",
       "      <td>2</td>\n",
       "      <td>2</td>\n",
       "      <td>2</td>\n",
       "      <td>OWNER</td>\n",
       "    </tr>\n",
       "    <tr>\n",
       "      <th>2</th>\n",
       "      <td>3</td>\n",
       "      <td>3</td>\n",
       "      <td>2</td>\n",
       "      <td>DISPONENT</td>\n",
       "    </tr>\n",
       "    <tr>\n",
       "      <th>3</th>\n",
       "      <td>4</td>\n",
       "      <td>4</td>\n",
       "      <td>3</td>\n",
       "      <td>OWNER</td>\n",
       "    </tr>\n",
       "    <tr>\n",
       "      <th>4</th>\n",
       "      <td>5</td>\n",
       "      <td>5</td>\n",
       "      <td>3</td>\n",
       "      <td>DISPONENT</td>\n",
       "    </tr>\n",
       "  </tbody>\n",
       "</table>\n",
       "</div>"
      ],
      "text/plain": [
       "   disp_id  client_id  account_id       type\n",
       "0        1          1           1      OWNER\n",
       "1        2          2           2      OWNER\n",
       "2        3          3           2  DISPONENT\n",
       "3        4          4           3      OWNER\n",
       "4        5          5           3  DISPONENT"
      ]
     },
     "execution_count": 18,
     "metadata": {},
     "output_type": "execute_result"
    }
   ],
   "source": [
    "disposition.head()"
   ]
  },
  {
   "cell_type": "code",
   "execution_count": 19,
   "id": "e2e5749e",
   "metadata": {},
   "outputs": [],
   "source": [
    "disposition.rename(columns={\n",
    "    'disp_id':'DispositionID', \n",
    "    'client_id':'ClientID',\n",
    "    'account_id':'AccountID', \n",
    "    'type':'Type',    \n",
    "}, inplace=True)"
   ]
  },
  {
   "cell_type": "code",
   "execution_count": 20,
   "id": "72dd6848",
   "metadata": {},
   "outputs": [
    {
     "data": {
      "text/html": [
       "<div>\n",
       "<style scoped>\n",
       "    .dataframe tbody tr th:only-of-type {\n",
       "        vertical-align: middle;\n",
       "    }\n",
       "\n",
       "    .dataframe tbody tr th {\n",
       "        vertical-align: top;\n",
       "    }\n",
       "\n",
       "    .dataframe thead th {\n",
       "        text-align: right;\n",
       "    }\n",
       "</style>\n",
       "<table border=\"1\" class=\"dataframe\">\n",
       "  <thead>\n",
       "    <tr style=\"text-align: right;\">\n",
       "      <th></th>\n",
       "      <th>DispositionID</th>\n",
       "      <th>ClientID</th>\n",
       "      <th>AccountID</th>\n",
       "      <th>Type</th>\n",
       "    </tr>\n",
       "  </thead>\n",
       "  <tbody>\n",
       "    <tr>\n",
       "      <th>0</th>\n",
       "      <td>1</td>\n",
       "      <td>1</td>\n",
       "      <td>1</td>\n",
       "      <td>OWNER</td>\n",
       "    </tr>\n",
       "    <tr>\n",
       "      <th>1</th>\n",
       "      <td>2</td>\n",
       "      <td>2</td>\n",
       "      <td>2</td>\n",
       "      <td>OWNER</td>\n",
       "    </tr>\n",
       "    <tr>\n",
       "      <th>2</th>\n",
       "      <td>3</td>\n",
       "      <td>3</td>\n",
       "      <td>2</td>\n",
       "      <td>DISPONENT</td>\n",
       "    </tr>\n",
       "    <tr>\n",
       "      <th>3</th>\n",
       "      <td>4</td>\n",
       "      <td>4</td>\n",
       "      <td>3</td>\n",
       "      <td>OWNER</td>\n",
       "    </tr>\n",
       "    <tr>\n",
       "      <th>4</th>\n",
       "      <td>5</td>\n",
       "      <td>5</td>\n",
       "      <td>3</td>\n",
       "      <td>DISPONENT</td>\n",
       "    </tr>\n",
       "  </tbody>\n",
       "</table>\n",
       "</div>"
      ],
      "text/plain": [
       "   DispositionID  ClientID  AccountID       Type\n",
       "0              1         1          1      OWNER\n",
       "1              2         2          2      OWNER\n",
       "2              3         3          2  DISPONENT\n",
       "3              4         4          3      OWNER\n",
       "4              5         5          3  DISPONENT"
      ]
     },
     "execution_count": 20,
     "metadata": {},
     "output_type": "execute_result"
    }
   ],
   "source": [
    "disposition.head()"
   ]
  },
  {
   "cell_type": "code",
   "execution_count": 21,
   "id": "31697cc1",
   "metadata": {},
   "outputs": [
    {
     "data": {
      "text/plain": [
       "Index(['DispositionID', 'ClientID', 'AccountID', 'Type'], dtype='object')"
      ]
     },
     "execution_count": 21,
     "metadata": {},
     "output_type": "execute_result"
    }
   ],
   "source": [
    "disposition.columns"
   ]
  },
  {
   "cell_type": "markdown",
   "id": "6e302e62",
   "metadata": {},
   "source": [
    "### <span style=\"color: blue;\">Save preprocessed disposition dataframe data into another `disposition.csv` file</span>\n",
    "* The data has been preprocessed and it is ready to be ingested into MS SQL Server.\n",
    "* Export the preprocessed data in the pandas dataframe into `disposition.csv` file in another folder."
   ]
  },
  {
   "cell_type": "code",
   "execution_count": 22,
   "id": "50b4e29e",
   "metadata": {},
   "outputs": [],
   "source": [
    "disposition.to_csv('../dataset-ready-to-upload-to-rdbms/disposition.csv', index=False)"
   ]
  },
  {
   "cell_type": "markdown",
   "id": "971907f6",
   "metadata": {},
   "source": [
    "### Data Preprocessing for District (district.csv)"
   ]
  },
  {
   "cell_type": "code",
   "execution_count": 23,
   "id": "62edc90f",
   "metadata": {},
   "outputs": [
    {
     "data": {
      "text/html": [
       "<div>\n",
       "<style scoped>\n",
       "    .dataframe tbody tr th:only-of-type {\n",
       "        vertical-align: middle;\n",
       "    }\n",
       "\n",
       "    .dataframe tbody tr th {\n",
       "        vertical-align: top;\n",
       "    }\n",
       "\n",
       "    .dataframe thead th {\n",
       "        text-align: right;\n",
       "    }\n",
       "</style>\n",
       "<table border=\"1\" class=\"dataframe\">\n",
       "  <thead>\n",
       "    <tr style=\"text-align: right;\">\n",
       "      <th></th>\n",
       "      <th>A1</th>\n",
       "      <th>A2</th>\n",
       "      <th>A3</th>\n",
       "      <th>A4</th>\n",
       "      <th>A5</th>\n",
       "      <th>A6</th>\n",
       "      <th>A7</th>\n",
       "      <th>A8</th>\n",
       "      <th>A9</th>\n",
       "      <th>A10</th>\n",
       "      <th>A11</th>\n",
       "      <th>A12</th>\n",
       "      <th>A13</th>\n",
       "      <th>A14</th>\n",
       "      <th>A15</th>\n",
       "      <th>A16</th>\n",
       "    </tr>\n",
       "  </thead>\n",
       "  <tbody>\n",
       "    <tr>\n",
       "      <th>0</th>\n",
       "      <td>1</td>\n",
       "      <td>Hl.m. Praha</td>\n",
       "      <td>Prague</td>\n",
       "      <td>1204953</td>\n",
       "      <td>0</td>\n",
       "      <td>0</td>\n",
       "      <td>0</td>\n",
       "      <td>1</td>\n",
       "      <td>1</td>\n",
       "      <td>100.0</td>\n",
       "      <td>12541</td>\n",
       "      <td>0.29</td>\n",
       "      <td>0.43</td>\n",
       "      <td>167</td>\n",
       "      <td>85677</td>\n",
       "      <td>99107</td>\n",
       "    </tr>\n",
       "    <tr>\n",
       "      <th>1</th>\n",
       "      <td>2</td>\n",
       "      <td>Benesov</td>\n",
       "      <td>central Bohemia</td>\n",
       "      <td>88884</td>\n",
       "      <td>80</td>\n",
       "      <td>26</td>\n",
       "      <td>6</td>\n",
       "      <td>2</td>\n",
       "      <td>5</td>\n",
       "      <td>46.7</td>\n",
       "      <td>8507</td>\n",
       "      <td>1.67</td>\n",
       "      <td>1.85</td>\n",
       "      <td>132</td>\n",
       "      <td>2159</td>\n",
       "      <td>2674</td>\n",
       "    </tr>\n",
       "    <tr>\n",
       "      <th>2</th>\n",
       "      <td>3</td>\n",
       "      <td>Beroun</td>\n",
       "      <td>central Bohemia</td>\n",
       "      <td>75232</td>\n",
       "      <td>55</td>\n",
       "      <td>26</td>\n",
       "      <td>4</td>\n",
       "      <td>1</td>\n",
       "      <td>5</td>\n",
       "      <td>41.7</td>\n",
       "      <td>8980</td>\n",
       "      <td>1.95</td>\n",
       "      <td>2.21</td>\n",
       "      <td>111</td>\n",
       "      <td>2824</td>\n",
       "      <td>2813</td>\n",
       "    </tr>\n",
       "    <tr>\n",
       "      <th>3</th>\n",
       "      <td>4</td>\n",
       "      <td>Kladno</td>\n",
       "      <td>central Bohemia</td>\n",
       "      <td>149893</td>\n",
       "      <td>63</td>\n",
       "      <td>29</td>\n",
       "      <td>6</td>\n",
       "      <td>2</td>\n",
       "      <td>6</td>\n",
       "      <td>67.4</td>\n",
       "      <td>9753</td>\n",
       "      <td>4.64</td>\n",
       "      <td>5.05</td>\n",
       "      <td>109</td>\n",
       "      <td>5244</td>\n",
       "      <td>5892</td>\n",
       "    </tr>\n",
       "    <tr>\n",
       "      <th>4</th>\n",
       "      <td>5</td>\n",
       "      <td>Kolin</td>\n",
       "      <td>central Bohemia</td>\n",
       "      <td>95616</td>\n",
       "      <td>65</td>\n",
       "      <td>30</td>\n",
       "      <td>4</td>\n",
       "      <td>1</td>\n",
       "      <td>6</td>\n",
       "      <td>51.4</td>\n",
       "      <td>9307</td>\n",
       "      <td>3.85</td>\n",
       "      <td>4.43</td>\n",
       "      <td>118</td>\n",
       "      <td>2616</td>\n",
       "      <td>3040</td>\n",
       "    </tr>\n",
       "  </tbody>\n",
       "</table>\n",
       "</div>"
      ],
      "text/plain": [
       "   A1           A2               A3       A4  A5  A6  A7  A8  A9    A10  \\\n",
       "0   1  Hl.m. Praha           Prague  1204953   0   0   0   1   1  100.0   \n",
       "1   2      Benesov  central Bohemia    88884  80  26   6   2   5   46.7   \n",
       "2   3       Beroun  central Bohemia    75232  55  26   4   1   5   41.7   \n",
       "3   4       Kladno  central Bohemia   149893  63  29   6   2   6   67.4   \n",
       "4   5        Kolin  central Bohemia    95616  65  30   4   1   6   51.4   \n",
       "\n",
       "     A11   A12   A13  A14    A15    A16  \n",
       "0  12541  0.29  0.43  167  85677  99107  \n",
       "1   8507  1.67  1.85  132   2159   2674  \n",
       "2   8980  1.95  2.21  111   2824   2813  \n",
       "3   9753  4.64  5.05  109   5244   5892  \n",
       "4   9307  3.85  4.43  118   2616   3040  "
      ]
     },
     "execution_count": 23,
     "metadata": {},
     "output_type": "execute_result"
    }
   ],
   "source": [
    "district.head()"
   ]
  },
  {
   "cell_type": "code",
   "execution_count": 24,
   "id": "56609297",
   "metadata": {},
   "outputs": [],
   "source": [
    "district.rename(columns={\n",
    "    'A1':'DistrictID',    \n",
    "}, inplace=True)"
   ]
  },
  {
   "cell_type": "code",
   "execution_count": 25,
   "id": "a90c2a4a",
   "metadata": {},
   "outputs": [
    {
     "data": {
      "text/html": [
       "<div>\n",
       "<style scoped>\n",
       "    .dataframe tbody tr th:only-of-type {\n",
       "        vertical-align: middle;\n",
       "    }\n",
       "\n",
       "    .dataframe tbody tr th {\n",
       "        vertical-align: top;\n",
       "    }\n",
       "\n",
       "    .dataframe thead th {\n",
       "        text-align: right;\n",
       "    }\n",
       "</style>\n",
       "<table border=\"1\" class=\"dataframe\">\n",
       "  <thead>\n",
       "    <tr style=\"text-align: right;\">\n",
       "      <th></th>\n",
       "      <th>DistrictID</th>\n",
       "      <th>A2</th>\n",
       "      <th>A3</th>\n",
       "      <th>A4</th>\n",
       "      <th>A5</th>\n",
       "      <th>A6</th>\n",
       "      <th>A7</th>\n",
       "      <th>A8</th>\n",
       "      <th>A9</th>\n",
       "      <th>A10</th>\n",
       "      <th>A11</th>\n",
       "      <th>A12</th>\n",
       "      <th>A13</th>\n",
       "      <th>A14</th>\n",
       "      <th>A15</th>\n",
       "      <th>A16</th>\n",
       "    </tr>\n",
       "  </thead>\n",
       "  <tbody>\n",
       "    <tr>\n",
       "      <th>0</th>\n",
       "      <td>1</td>\n",
       "      <td>Hl.m. Praha</td>\n",
       "      <td>Prague</td>\n",
       "      <td>1204953</td>\n",
       "      <td>0</td>\n",
       "      <td>0</td>\n",
       "      <td>0</td>\n",
       "      <td>1</td>\n",
       "      <td>1</td>\n",
       "      <td>100.0</td>\n",
       "      <td>12541</td>\n",
       "      <td>0.29</td>\n",
       "      <td>0.43</td>\n",
       "      <td>167</td>\n",
       "      <td>85677</td>\n",
       "      <td>99107</td>\n",
       "    </tr>\n",
       "    <tr>\n",
       "      <th>1</th>\n",
       "      <td>2</td>\n",
       "      <td>Benesov</td>\n",
       "      <td>central Bohemia</td>\n",
       "      <td>88884</td>\n",
       "      <td>80</td>\n",
       "      <td>26</td>\n",
       "      <td>6</td>\n",
       "      <td>2</td>\n",
       "      <td>5</td>\n",
       "      <td>46.7</td>\n",
       "      <td>8507</td>\n",
       "      <td>1.67</td>\n",
       "      <td>1.85</td>\n",
       "      <td>132</td>\n",
       "      <td>2159</td>\n",
       "      <td>2674</td>\n",
       "    </tr>\n",
       "    <tr>\n",
       "      <th>2</th>\n",
       "      <td>3</td>\n",
       "      <td>Beroun</td>\n",
       "      <td>central Bohemia</td>\n",
       "      <td>75232</td>\n",
       "      <td>55</td>\n",
       "      <td>26</td>\n",
       "      <td>4</td>\n",
       "      <td>1</td>\n",
       "      <td>5</td>\n",
       "      <td>41.7</td>\n",
       "      <td>8980</td>\n",
       "      <td>1.95</td>\n",
       "      <td>2.21</td>\n",
       "      <td>111</td>\n",
       "      <td>2824</td>\n",
       "      <td>2813</td>\n",
       "    </tr>\n",
       "    <tr>\n",
       "      <th>3</th>\n",
       "      <td>4</td>\n",
       "      <td>Kladno</td>\n",
       "      <td>central Bohemia</td>\n",
       "      <td>149893</td>\n",
       "      <td>63</td>\n",
       "      <td>29</td>\n",
       "      <td>6</td>\n",
       "      <td>2</td>\n",
       "      <td>6</td>\n",
       "      <td>67.4</td>\n",
       "      <td>9753</td>\n",
       "      <td>4.64</td>\n",
       "      <td>5.05</td>\n",
       "      <td>109</td>\n",
       "      <td>5244</td>\n",
       "      <td>5892</td>\n",
       "    </tr>\n",
       "    <tr>\n",
       "      <th>4</th>\n",
       "      <td>5</td>\n",
       "      <td>Kolin</td>\n",
       "      <td>central Bohemia</td>\n",
       "      <td>95616</td>\n",
       "      <td>65</td>\n",
       "      <td>30</td>\n",
       "      <td>4</td>\n",
       "      <td>1</td>\n",
       "      <td>6</td>\n",
       "      <td>51.4</td>\n",
       "      <td>9307</td>\n",
       "      <td>3.85</td>\n",
       "      <td>4.43</td>\n",
       "      <td>118</td>\n",
       "      <td>2616</td>\n",
       "      <td>3040</td>\n",
       "    </tr>\n",
       "  </tbody>\n",
       "</table>\n",
       "</div>"
      ],
      "text/plain": [
       "   DistrictID           A2               A3       A4  A5  A6  A7  A8  A9  \\\n",
       "0           1  Hl.m. Praha           Prague  1204953   0   0   0   1   1   \n",
       "1           2      Benesov  central Bohemia    88884  80  26   6   2   5   \n",
       "2           3       Beroun  central Bohemia    75232  55  26   4   1   5   \n",
       "3           4       Kladno  central Bohemia   149893  63  29   6   2   6   \n",
       "4           5        Kolin  central Bohemia    95616  65  30   4   1   6   \n",
       "\n",
       "     A10    A11   A12   A13  A14    A15    A16  \n",
       "0  100.0  12541  0.29  0.43  167  85677  99107  \n",
       "1   46.7   8507  1.67  1.85  132   2159   2674  \n",
       "2   41.7   8980  1.95  2.21  111   2824   2813  \n",
       "3   67.4   9753  4.64  5.05  109   5244   5892  \n",
       "4   51.4   9307  3.85  4.43  118   2616   3040  "
      ]
     },
     "execution_count": 25,
     "metadata": {},
     "output_type": "execute_result"
    }
   ],
   "source": [
    "district.head()"
   ]
  },
  {
   "cell_type": "code",
   "execution_count": 26,
   "id": "e0c6bc05",
   "metadata": {},
   "outputs": [
    {
     "data": {
      "text/plain": [
       "Index(['DistrictID', 'A2', 'A3', 'A4', 'A5', 'A6', 'A7', 'A8', 'A9', 'A10',\n",
       "       'A11', 'A12', 'A13', 'A14', 'A15', 'A16'],\n",
       "      dtype='object')"
      ]
     },
     "execution_count": 26,
     "metadata": {},
     "output_type": "execute_result"
    }
   ],
   "source": [
    "district.columns"
   ]
  },
  {
   "cell_type": "markdown",
   "id": "3c0b9b39",
   "metadata": {},
   "source": [
    "### <span style=\"color: blue;\">Save preprocessed district dataframe data into another `district.csv` file</span>\n",
    "* The data has been preprocessed and it is ready to be ingested into MS SQL Server.\n",
    "* Export the preprocessed data in the pandas dataframe into `district.csv` file in another folder."
   ]
  },
  {
   "cell_type": "code",
   "execution_count": 27,
   "id": "cb08c4d5",
   "metadata": {},
   "outputs": [],
   "source": [
    "district.to_csv('../dataset-ready-to-upload-to-rdbms/district.csv', index=False)"
   ]
  },
  {
   "cell_type": "markdown",
   "id": "a072161e",
   "metadata": {},
   "source": [
    "### Data Preprocessing for Loan (loan.csv)"
   ]
  },
  {
   "cell_type": "code",
   "execution_count": 28,
   "id": "fdb0ed95",
   "metadata": {},
   "outputs": [
    {
     "data": {
      "text/html": [
       "<div>\n",
       "<style scoped>\n",
       "    .dataframe tbody tr th:only-of-type {\n",
       "        vertical-align: middle;\n",
       "    }\n",
       "\n",
       "    .dataframe tbody tr th {\n",
       "        vertical-align: top;\n",
       "    }\n",
       "\n",
       "    .dataframe thead th {\n",
       "        text-align: right;\n",
       "    }\n",
       "</style>\n",
       "<table border=\"1\" class=\"dataframe\">\n",
       "  <thead>\n",
       "    <tr style=\"text-align: right;\">\n",
       "      <th></th>\n",
       "      <th>loan_id</th>\n",
       "      <th>account_id</th>\n",
       "      <th>date</th>\n",
       "      <th>amount</th>\n",
       "      <th>duration</th>\n",
       "      <th>payments</th>\n",
       "      <th>status</th>\n",
       "    </tr>\n",
       "  </thead>\n",
       "  <tbody>\n",
       "    <tr>\n",
       "      <th>0</th>\n",
       "      <td>5314</td>\n",
       "      <td>1787</td>\n",
       "      <td>930705</td>\n",
       "      <td>96396</td>\n",
       "      <td>12</td>\n",
       "      <td>8033.0</td>\n",
       "      <td>B</td>\n",
       "    </tr>\n",
       "    <tr>\n",
       "      <th>1</th>\n",
       "      <td>5316</td>\n",
       "      <td>1801</td>\n",
       "      <td>930711</td>\n",
       "      <td>165960</td>\n",
       "      <td>36</td>\n",
       "      <td>4610.0</td>\n",
       "      <td>A</td>\n",
       "    </tr>\n",
       "    <tr>\n",
       "      <th>2</th>\n",
       "      <td>6863</td>\n",
       "      <td>9188</td>\n",
       "      <td>930728</td>\n",
       "      <td>127080</td>\n",
       "      <td>60</td>\n",
       "      <td>2118.0</td>\n",
       "      <td>A</td>\n",
       "    </tr>\n",
       "    <tr>\n",
       "      <th>3</th>\n",
       "      <td>5325</td>\n",
       "      <td>1843</td>\n",
       "      <td>930803</td>\n",
       "      <td>105804</td>\n",
       "      <td>36</td>\n",
       "      <td>2939.0</td>\n",
       "      <td>A</td>\n",
       "    </tr>\n",
       "    <tr>\n",
       "      <th>4</th>\n",
       "      <td>7240</td>\n",
       "      <td>11013</td>\n",
       "      <td>930906</td>\n",
       "      <td>274740</td>\n",
       "      <td>60</td>\n",
       "      <td>4579.0</td>\n",
       "      <td>A</td>\n",
       "    </tr>\n",
       "  </tbody>\n",
       "</table>\n",
       "</div>"
      ],
      "text/plain": [
       "   loan_id  account_id    date  amount  duration  payments status\n",
       "0     5314        1787  930705   96396        12    8033.0      B\n",
       "1     5316        1801  930711  165960        36    4610.0      A\n",
       "2     6863        9188  930728  127080        60    2118.0      A\n",
       "3     5325        1843  930803  105804        36    2939.0      A\n",
       "4     7240       11013  930906  274740        60    4579.0      A"
      ]
     },
     "execution_count": 28,
     "metadata": {},
     "output_type": "execute_result"
    }
   ],
   "source": [
    "loan.head()"
   ]
  },
  {
   "cell_type": "code",
   "execution_count": 29,
   "id": "6843641c",
   "metadata": {},
   "outputs": [],
   "source": [
    "loan.rename(columns={\n",
    "    'loan_id':'LoanID', \n",
    "    'account_id':'AccountID', \n",
    "    'date':'EntryDate',\n",
    "    'amount':'Amount', \n",
    "    'duration':'Duration',\n",
    "    'payments':'Payments', \n",
    "    'status':'Status',     \n",
    "}, inplace=True)"
   ]
  },
  {
   "cell_type": "code",
   "execution_count": 30,
   "id": "df566038",
   "metadata": {},
   "outputs": [
    {
     "data": {
      "text/html": [
       "<div>\n",
       "<style scoped>\n",
       "    .dataframe tbody tr th:only-of-type {\n",
       "        vertical-align: middle;\n",
       "    }\n",
       "\n",
       "    .dataframe tbody tr th {\n",
       "        vertical-align: top;\n",
       "    }\n",
       "\n",
       "    .dataframe thead th {\n",
       "        text-align: right;\n",
       "    }\n",
       "</style>\n",
       "<table border=\"1\" class=\"dataframe\">\n",
       "  <thead>\n",
       "    <tr style=\"text-align: right;\">\n",
       "      <th></th>\n",
       "      <th>LoanID</th>\n",
       "      <th>AccountID</th>\n",
       "      <th>EntryDate</th>\n",
       "      <th>Amount</th>\n",
       "      <th>Duration</th>\n",
       "      <th>Payments</th>\n",
       "      <th>Status</th>\n",
       "    </tr>\n",
       "  </thead>\n",
       "  <tbody>\n",
       "    <tr>\n",
       "      <th>0</th>\n",
       "      <td>5314</td>\n",
       "      <td>1787</td>\n",
       "      <td>930705</td>\n",
       "      <td>96396</td>\n",
       "      <td>12</td>\n",
       "      <td>8033.0</td>\n",
       "      <td>B</td>\n",
       "    </tr>\n",
       "    <tr>\n",
       "      <th>1</th>\n",
       "      <td>5316</td>\n",
       "      <td>1801</td>\n",
       "      <td>930711</td>\n",
       "      <td>165960</td>\n",
       "      <td>36</td>\n",
       "      <td>4610.0</td>\n",
       "      <td>A</td>\n",
       "    </tr>\n",
       "    <tr>\n",
       "      <th>2</th>\n",
       "      <td>6863</td>\n",
       "      <td>9188</td>\n",
       "      <td>930728</td>\n",
       "      <td>127080</td>\n",
       "      <td>60</td>\n",
       "      <td>2118.0</td>\n",
       "      <td>A</td>\n",
       "    </tr>\n",
       "    <tr>\n",
       "      <th>3</th>\n",
       "      <td>5325</td>\n",
       "      <td>1843</td>\n",
       "      <td>930803</td>\n",
       "      <td>105804</td>\n",
       "      <td>36</td>\n",
       "      <td>2939.0</td>\n",
       "      <td>A</td>\n",
       "    </tr>\n",
       "    <tr>\n",
       "      <th>4</th>\n",
       "      <td>7240</td>\n",
       "      <td>11013</td>\n",
       "      <td>930906</td>\n",
       "      <td>274740</td>\n",
       "      <td>60</td>\n",
       "      <td>4579.0</td>\n",
       "      <td>A</td>\n",
       "    </tr>\n",
       "  </tbody>\n",
       "</table>\n",
       "</div>"
      ],
      "text/plain": [
       "   LoanID  AccountID  EntryDate  Amount  Duration  Payments Status\n",
       "0    5314       1787     930705   96396        12    8033.0      B\n",
       "1    5316       1801     930711  165960        36    4610.0      A\n",
       "2    6863       9188     930728  127080        60    2118.0      A\n",
       "3    5325       1843     930803  105804        36    2939.0      A\n",
       "4    7240      11013     930906  274740        60    4579.0      A"
      ]
     },
     "execution_count": 30,
     "metadata": {},
     "output_type": "execute_result"
    }
   ],
   "source": [
    "loan.head()"
   ]
  },
  {
   "cell_type": "code",
   "execution_count": 31,
   "id": "60f50364",
   "metadata": {},
   "outputs": [
    {
     "data": {
      "text/plain": [
       "Index(['LoanID', 'AccountID', 'EntryDate', 'Amount', 'Duration', 'Payments',\n",
       "       'Status'],\n",
       "      dtype='object')"
      ]
     },
     "execution_count": 31,
     "metadata": {},
     "output_type": "execute_result"
    }
   ],
   "source": [
    "loan.columns"
   ]
  },
  {
   "cell_type": "markdown",
   "id": "ab58fceb",
   "metadata": {},
   "source": [
    "### <span style=\"color: blue;\">Save preprocessed loan dataframe data into another `loan.csv` file</span>\n",
    "* The data has been preprocessed and it is ready to be ingested into MS SQL Server.\n",
    "* Export the preprocessed data in the pandas dataframe into `loan.csv` file in another folder."
   ]
  },
  {
   "cell_type": "code",
   "execution_count": 32,
   "id": "e3db6041",
   "metadata": {},
   "outputs": [],
   "source": [
    "loan.to_csv('../dataset-ready-to-upload-to-rdbms/loan.csv', index=False)"
   ]
  },
  {
   "cell_type": "markdown",
   "id": "61845037",
   "metadata": {},
   "source": [
    "### Data Preprocessing for Order (order.csv)"
   ]
  },
  {
   "cell_type": "code",
   "execution_count": 33,
   "id": "3b610084",
   "metadata": {},
   "outputs": [
    {
     "data": {
      "text/html": [
       "<div>\n",
       "<style scoped>\n",
       "    .dataframe tbody tr th:only-of-type {\n",
       "        vertical-align: middle;\n",
       "    }\n",
       "\n",
       "    .dataframe tbody tr th {\n",
       "        vertical-align: top;\n",
       "    }\n",
       "\n",
       "    .dataframe thead th {\n",
       "        text-align: right;\n",
       "    }\n",
       "</style>\n",
       "<table border=\"1\" class=\"dataframe\">\n",
       "  <thead>\n",
       "    <tr style=\"text-align: right;\">\n",
       "      <th></th>\n",
       "      <th>order_id</th>\n",
       "      <th>account_id</th>\n",
       "      <th>bank_to</th>\n",
       "      <th>account_to</th>\n",
       "      <th>amount</th>\n",
       "      <th>k_symbol</th>\n",
       "    </tr>\n",
       "  </thead>\n",
       "  <tbody>\n",
       "    <tr>\n",
       "      <th>0</th>\n",
       "      <td>29401</td>\n",
       "      <td>1</td>\n",
       "      <td>YZ</td>\n",
       "      <td>87144583</td>\n",
       "      <td>2452.0</td>\n",
       "      <td>SIPO</td>\n",
       "    </tr>\n",
       "    <tr>\n",
       "      <th>1</th>\n",
       "      <td>29402</td>\n",
       "      <td>2</td>\n",
       "      <td>ST</td>\n",
       "      <td>89597016</td>\n",
       "      <td>3372.7</td>\n",
       "      <td>UVER</td>\n",
       "    </tr>\n",
       "    <tr>\n",
       "      <th>2</th>\n",
       "      <td>29403</td>\n",
       "      <td>2</td>\n",
       "      <td>QR</td>\n",
       "      <td>13943797</td>\n",
       "      <td>7266.0</td>\n",
       "      <td>SIPO</td>\n",
       "    </tr>\n",
       "    <tr>\n",
       "      <th>3</th>\n",
       "      <td>29404</td>\n",
       "      <td>3</td>\n",
       "      <td>WX</td>\n",
       "      <td>83084338</td>\n",
       "      <td>1135.0</td>\n",
       "      <td>SIPO</td>\n",
       "    </tr>\n",
       "    <tr>\n",
       "      <th>4</th>\n",
       "      <td>29405</td>\n",
       "      <td>3</td>\n",
       "      <td>CD</td>\n",
       "      <td>24485939</td>\n",
       "      <td>327.0</td>\n",
       "      <td></td>\n",
       "    </tr>\n",
       "  </tbody>\n",
       "</table>\n",
       "</div>"
      ],
      "text/plain": [
       "   order_id  account_id bank_to  account_to  amount k_symbol\n",
       "0     29401           1      YZ    87144583  2452.0     SIPO\n",
       "1     29402           2      ST    89597016  3372.7     UVER\n",
       "2     29403           2      QR    13943797  7266.0     SIPO\n",
       "3     29404           3      WX    83084338  1135.0     SIPO\n",
       "4     29405           3      CD    24485939   327.0         "
      ]
     },
     "execution_count": 33,
     "metadata": {},
     "output_type": "execute_result"
    }
   ],
   "source": [
    "order.head()"
   ]
  },
  {
   "cell_type": "code",
   "execution_count": 34,
   "id": "ef410d96",
   "metadata": {},
   "outputs": [],
   "source": [
    "order.rename(columns={\n",
    "    'order_id':'OrderID', \n",
    "    'account_id':'AccountID', \n",
    "    'bank_to':'BankTo',\n",
    "    'account_to':'AccountTo', \n",
    "    'amount':'Amount', \n",
    "    'k_symbol':'KSymbol',     \n",
    "}, inplace=True)"
   ]
  },
  {
   "cell_type": "code",
   "execution_count": 35,
   "id": "34a0f66c",
   "metadata": {},
   "outputs": [
    {
     "data": {
      "text/html": [
       "<div>\n",
       "<style scoped>\n",
       "    .dataframe tbody tr th:only-of-type {\n",
       "        vertical-align: middle;\n",
       "    }\n",
       "\n",
       "    .dataframe tbody tr th {\n",
       "        vertical-align: top;\n",
       "    }\n",
       "\n",
       "    .dataframe thead th {\n",
       "        text-align: right;\n",
       "    }\n",
       "</style>\n",
       "<table border=\"1\" class=\"dataframe\">\n",
       "  <thead>\n",
       "    <tr style=\"text-align: right;\">\n",
       "      <th></th>\n",
       "      <th>OrderID</th>\n",
       "      <th>AccountID</th>\n",
       "      <th>BankTo</th>\n",
       "      <th>AccountTo</th>\n",
       "      <th>Amount</th>\n",
       "      <th>KSymbol</th>\n",
       "    </tr>\n",
       "  </thead>\n",
       "  <tbody>\n",
       "    <tr>\n",
       "      <th>0</th>\n",
       "      <td>29401</td>\n",
       "      <td>1</td>\n",
       "      <td>YZ</td>\n",
       "      <td>87144583</td>\n",
       "      <td>2452.0</td>\n",
       "      <td>SIPO</td>\n",
       "    </tr>\n",
       "    <tr>\n",
       "      <th>1</th>\n",
       "      <td>29402</td>\n",
       "      <td>2</td>\n",
       "      <td>ST</td>\n",
       "      <td>89597016</td>\n",
       "      <td>3372.7</td>\n",
       "      <td>UVER</td>\n",
       "    </tr>\n",
       "    <tr>\n",
       "      <th>2</th>\n",
       "      <td>29403</td>\n",
       "      <td>2</td>\n",
       "      <td>QR</td>\n",
       "      <td>13943797</td>\n",
       "      <td>7266.0</td>\n",
       "      <td>SIPO</td>\n",
       "    </tr>\n",
       "    <tr>\n",
       "      <th>3</th>\n",
       "      <td>29404</td>\n",
       "      <td>3</td>\n",
       "      <td>WX</td>\n",
       "      <td>83084338</td>\n",
       "      <td>1135.0</td>\n",
       "      <td>SIPO</td>\n",
       "    </tr>\n",
       "    <tr>\n",
       "      <th>4</th>\n",
       "      <td>29405</td>\n",
       "      <td>3</td>\n",
       "      <td>CD</td>\n",
       "      <td>24485939</td>\n",
       "      <td>327.0</td>\n",
       "      <td></td>\n",
       "    </tr>\n",
       "  </tbody>\n",
       "</table>\n",
       "</div>"
      ],
      "text/plain": [
       "   OrderID  AccountID BankTo  AccountTo  Amount KSymbol\n",
       "0    29401          1     YZ   87144583  2452.0    SIPO\n",
       "1    29402          2     ST   89597016  3372.7    UVER\n",
       "2    29403          2     QR   13943797  7266.0    SIPO\n",
       "3    29404          3     WX   83084338  1135.0    SIPO\n",
       "4    29405          3     CD   24485939   327.0        "
      ]
     },
     "execution_count": 35,
     "metadata": {},
     "output_type": "execute_result"
    }
   ],
   "source": [
    "order.head()"
   ]
  },
  {
   "cell_type": "code",
   "execution_count": 36,
   "id": "1f1f835f",
   "metadata": {},
   "outputs": [
    {
     "data": {
      "text/plain": [
       "Index(['OrderID', 'AccountID', 'BankTo', 'AccountTo', 'Amount', 'KSymbol'], dtype='object')"
      ]
     },
     "execution_count": 36,
     "metadata": {},
     "output_type": "execute_result"
    }
   ],
   "source": [
    "order.columns"
   ]
  },
  {
   "cell_type": "markdown",
   "id": "6b085efb",
   "metadata": {},
   "source": [
    "### <span style=\"color: blue;\">Save preprocessed order dataframe data into another `order.csv` file</span>\n",
    "* The data has been preprocessed and it is ready to be ingested into MS SQL Server.\n",
    "* Export the preprocessed data in the pandas dataframe into `order.csv` file in another folder."
   ]
  },
  {
   "cell_type": "code",
   "execution_count": 37,
   "id": "a920e2c0",
   "metadata": {},
   "outputs": [],
   "source": [
    "order.to_csv('../dataset-ready-to-upload-to-rdbms/order.csv', index=False)"
   ]
  },
  {
   "cell_type": "markdown",
   "id": "6e29502c",
   "metadata": {},
   "source": [
    "### Data Preprocessing for Transaction Data (trans.csv)"
   ]
  },
  {
   "cell_type": "code",
   "execution_count": 38,
   "id": "6d1f5402",
   "metadata": {},
   "outputs": [
    {
     "data": {
      "text/html": [
       "<div>\n",
       "<style scoped>\n",
       "    .dataframe tbody tr th:only-of-type {\n",
       "        vertical-align: middle;\n",
       "    }\n",
       "\n",
       "    .dataframe tbody tr th {\n",
       "        vertical-align: top;\n",
       "    }\n",
       "\n",
       "    .dataframe thead th {\n",
       "        text-align: right;\n",
       "    }\n",
       "</style>\n",
       "<table border=\"1\" class=\"dataframe\">\n",
       "  <thead>\n",
       "    <tr style=\"text-align: right;\">\n",
       "      <th></th>\n",
       "      <th>trans_id</th>\n",
       "      <th>account_id</th>\n",
       "      <th>date</th>\n",
       "      <th>type</th>\n",
       "      <th>operation</th>\n",
       "      <th>amount</th>\n",
       "      <th>balance</th>\n",
       "      <th>k_symbol</th>\n",
       "      <th>bank</th>\n",
       "      <th>account</th>\n",
       "    </tr>\n",
       "  </thead>\n",
       "  <tbody>\n",
       "    <tr>\n",
       "      <th>0</th>\n",
       "      <td>695247</td>\n",
       "      <td>2378</td>\n",
       "      <td>930101</td>\n",
       "      <td>PRIJEM</td>\n",
       "      <td>VKLAD</td>\n",
       "      <td>700.0</td>\n",
       "      <td>700.0</td>\n",
       "      <td>NaN</td>\n",
       "      <td>NaN</td>\n",
       "      <td>NaN</td>\n",
       "    </tr>\n",
       "    <tr>\n",
       "      <th>1</th>\n",
       "      <td>171812</td>\n",
       "      <td>576</td>\n",
       "      <td>930101</td>\n",
       "      <td>PRIJEM</td>\n",
       "      <td>VKLAD</td>\n",
       "      <td>900.0</td>\n",
       "      <td>900.0</td>\n",
       "      <td>NaN</td>\n",
       "      <td>NaN</td>\n",
       "      <td>NaN</td>\n",
       "    </tr>\n",
       "    <tr>\n",
       "      <th>2</th>\n",
       "      <td>207264</td>\n",
       "      <td>704</td>\n",
       "      <td>930101</td>\n",
       "      <td>PRIJEM</td>\n",
       "      <td>VKLAD</td>\n",
       "      <td>1000.0</td>\n",
       "      <td>1000.0</td>\n",
       "      <td>NaN</td>\n",
       "      <td>NaN</td>\n",
       "      <td>NaN</td>\n",
       "    </tr>\n",
       "    <tr>\n",
       "      <th>3</th>\n",
       "      <td>1117247</td>\n",
       "      <td>3818</td>\n",
       "      <td>930101</td>\n",
       "      <td>PRIJEM</td>\n",
       "      <td>VKLAD</td>\n",
       "      <td>600.0</td>\n",
       "      <td>600.0</td>\n",
       "      <td>NaN</td>\n",
       "      <td>NaN</td>\n",
       "      <td>NaN</td>\n",
       "    </tr>\n",
       "    <tr>\n",
       "      <th>4</th>\n",
       "      <td>579373</td>\n",
       "      <td>1972</td>\n",
       "      <td>930102</td>\n",
       "      <td>PRIJEM</td>\n",
       "      <td>VKLAD</td>\n",
       "      <td>400.0</td>\n",
       "      <td>400.0</td>\n",
       "      <td>NaN</td>\n",
       "      <td>NaN</td>\n",
       "      <td>NaN</td>\n",
       "    </tr>\n",
       "  </tbody>\n",
       "</table>\n",
       "</div>"
      ],
      "text/plain": [
       "   trans_id  account_id    date    type operation  amount  balance k_symbol  \\\n",
       "0    695247        2378  930101  PRIJEM     VKLAD   700.0    700.0      NaN   \n",
       "1    171812         576  930101  PRIJEM     VKLAD   900.0    900.0      NaN   \n",
       "2    207264         704  930101  PRIJEM     VKLAD  1000.0   1000.0      NaN   \n",
       "3   1117247        3818  930101  PRIJEM     VKLAD   600.0    600.0      NaN   \n",
       "4    579373        1972  930102  PRIJEM     VKLAD   400.0    400.0      NaN   \n",
       "\n",
       "  bank  account  \n",
       "0  NaN      NaN  \n",
       "1  NaN      NaN  \n",
       "2  NaN      NaN  \n",
       "3  NaN      NaN  \n",
       "4  NaN      NaN  "
      ]
     },
     "execution_count": 38,
     "metadata": {},
     "output_type": "execute_result"
    }
   ],
   "source": [
    "transaction.head()"
   ]
  },
  {
   "cell_type": "code",
   "execution_count": 39,
   "id": "681e97c0",
   "metadata": {},
   "outputs": [],
   "source": [
    "transaction.rename(columns={\n",
    "    'trans_id':'TransactionID', \n",
    "    'account_id':'AccountID', \n",
    "    'date':'EntryDate',\n",
    "    'type':'Type', \n",
    "    'operation':'Operation', \n",
    "    'amount':'Amount', \n",
    "    'balance':'Balance',\n",
    "    'k_symbol':'KSymbol',     \n",
    "    'bank':'Bank',     \n",
    "    'account':'Account' \n",
    "}, inplace=True)"
   ]
  },
  {
   "cell_type": "code",
   "execution_count": 40,
   "id": "3e51e82a",
   "metadata": {},
   "outputs": [
    {
     "data": {
      "text/html": [
       "<div>\n",
       "<style scoped>\n",
       "    .dataframe tbody tr th:only-of-type {\n",
       "        vertical-align: middle;\n",
       "    }\n",
       "\n",
       "    .dataframe tbody tr th {\n",
       "        vertical-align: top;\n",
       "    }\n",
       "\n",
       "    .dataframe thead th {\n",
       "        text-align: right;\n",
       "    }\n",
       "</style>\n",
       "<table border=\"1\" class=\"dataframe\">\n",
       "  <thead>\n",
       "    <tr style=\"text-align: right;\">\n",
       "      <th></th>\n",
       "      <th>TransactionID</th>\n",
       "      <th>AccountID</th>\n",
       "      <th>EntryDate</th>\n",
       "      <th>Type</th>\n",
       "      <th>Operation</th>\n",
       "      <th>Amount</th>\n",
       "      <th>Balance</th>\n",
       "      <th>KSymbol</th>\n",
       "      <th>Bank</th>\n",
       "      <th>Account</th>\n",
       "    </tr>\n",
       "  </thead>\n",
       "  <tbody>\n",
       "    <tr>\n",
       "      <th>0</th>\n",
       "      <td>695247</td>\n",
       "      <td>2378</td>\n",
       "      <td>930101</td>\n",
       "      <td>PRIJEM</td>\n",
       "      <td>VKLAD</td>\n",
       "      <td>700.0</td>\n",
       "      <td>700.0</td>\n",
       "      <td>NaN</td>\n",
       "      <td>NaN</td>\n",
       "      <td>NaN</td>\n",
       "    </tr>\n",
       "    <tr>\n",
       "      <th>1</th>\n",
       "      <td>171812</td>\n",
       "      <td>576</td>\n",
       "      <td>930101</td>\n",
       "      <td>PRIJEM</td>\n",
       "      <td>VKLAD</td>\n",
       "      <td>900.0</td>\n",
       "      <td>900.0</td>\n",
       "      <td>NaN</td>\n",
       "      <td>NaN</td>\n",
       "      <td>NaN</td>\n",
       "    </tr>\n",
       "    <tr>\n",
       "      <th>2</th>\n",
       "      <td>207264</td>\n",
       "      <td>704</td>\n",
       "      <td>930101</td>\n",
       "      <td>PRIJEM</td>\n",
       "      <td>VKLAD</td>\n",
       "      <td>1000.0</td>\n",
       "      <td>1000.0</td>\n",
       "      <td>NaN</td>\n",
       "      <td>NaN</td>\n",
       "      <td>NaN</td>\n",
       "    </tr>\n",
       "    <tr>\n",
       "      <th>3</th>\n",
       "      <td>1117247</td>\n",
       "      <td>3818</td>\n",
       "      <td>930101</td>\n",
       "      <td>PRIJEM</td>\n",
       "      <td>VKLAD</td>\n",
       "      <td>600.0</td>\n",
       "      <td>600.0</td>\n",
       "      <td>NaN</td>\n",
       "      <td>NaN</td>\n",
       "      <td>NaN</td>\n",
       "    </tr>\n",
       "    <tr>\n",
       "      <th>4</th>\n",
       "      <td>579373</td>\n",
       "      <td>1972</td>\n",
       "      <td>930102</td>\n",
       "      <td>PRIJEM</td>\n",
       "      <td>VKLAD</td>\n",
       "      <td>400.0</td>\n",
       "      <td>400.0</td>\n",
       "      <td>NaN</td>\n",
       "      <td>NaN</td>\n",
       "      <td>NaN</td>\n",
       "    </tr>\n",
       "  </tbody>\n",
       "</table>\n",
       "</div>"
      ],
      "text/plain": [
       "   TransactionID  AccountID  EntryDate    Type Operation  Amount  Balance  \\\n",
       "0         695247       2378     930101  PRIJEM     VKLAD   700.0    700.0   \n",
       "1         171812        576     930101  PRIJEM     VKLAD   900.0    900.0   \n",
       "2         207264        704     930101  PRIJEM     VKLAD  1000.0   1000.0   \n",
       "3        1117247       3818     930101  PRIJEM     VKLAD   600.0    600.0   \n",
       "4         579373       1972     930102  PRIJEM     VKLAD   400.0    400.0   \n",
       "\n",
       "  KSymbol Bank  Account  \n",
       "0     NaN  NaN      NaN  \n",
       "1     NaN  NaN      NaN  \n",
       "2     NaN  NaN      NaN  \n",
       "3     NaN  NaN      NaN  \n",
       "4     NaN  NaN      NaN  "
      ]
     },
     "execution_count": 40,
     "metadata": {},
     "output_type": "execute_result"
    }
   ],
   "source": [
    "transaction.head()"
   ]
  },
  {
   "cell_type": "code",
   "execution_count": 41,
   "id": "4da736ce",
   "metadata": {},
   "outputs": [
    {
     "data": {
      "text/plain": [
       "Index(['TransactionID', 'AccountID', 'EntryDate', 'Type', 'Operation',\n",
       "       'Amount', 'Balance', 'KSymbol', 'Bank', 'Account'],\n",
       "      dtype='object')"
      ]
     },
     "execution_count": 41,
     "metadata": {},
     "output_type": "execute_result"
    }
   ],
   "source": [
    "transaction.columns"
   ]
  },
  {
   "cell_type": "markdown",
   "id": "403f0bc0",
   "metadata": {},
   "source": [
    "### <span style=\"color: blue;\">Save preprocessed transaction dataframe data into another `transaction.csv` file</span>\n",
    "* The data has been preprocessed and it is ready to be ingested into MS SQL Server.\n",
    "* Export the preprocessed data in the pandas dataframe into `transaction.csv` file in another folder."
   ]
  },
  {
   "cell_type": "code",
   "execution_count": 42,
   "id": "0b2c7104",
   "metadata": {},
   "outputs": [],
   "source": [
    "transaction.to_csv('../dataset-ready-to-upload-to-rdbms/transaction.csv', index=False)"
   ]
  },
  {
   "cell_type": "markdown",
   "id": "38b55dba",
   "metadata": {},
   "source": [
    "### <span style=\"color: blue;\">Next Step: Exploratory Data Analysis (EDA) in SQL (MS SQL Server)</span>\n",
    "\n",
    "* Although the EDA can be completed here using python and pandas, part of the original goal is to demonstrate a mastery of SQL by performing the EDA in MS SQL Server using SQL.\n",
    "* So, the dataset will be imported into a relational database called `BankDB` on MS SQL Server.\n",
    "\n",
    "### Purpose: \n",
    "* to understand the dataset, the data structure, the content, and any potential issues with the dataset.\n",
    "* to analyze with descriptive statistics.\n",
    "* to handle missing values.\n",
    "* to correct data type mismatch, including date data types.\n",
    "* to standardize text data.\n",
    "* to handle duplicate and inconsistent data.\n",
    "* to validate the data.\n",
    "* to add new tables and columns based on existing data for analysis purposes."
   ]
  }
 ],
 "metadata": {
  "kernelspec": {
   "display_name": "Python 3 (ipykernel)",
   "language": "python",
   "name": "python3"
  },
  "language_info": {
   "codemirror_mode": {
    "name": "ipython",
    "version": 3
   },
   "file_extension": ".py",
   "mimetype": "text/x-python",
   "name": "python",
   "nbconvert_exporter": "python",
   "pygments_lexer": "ipython3",
   "version": "3.10.12"
  }
 },
 "nbformat": 4,
 "nbformat_minor": 5
}
